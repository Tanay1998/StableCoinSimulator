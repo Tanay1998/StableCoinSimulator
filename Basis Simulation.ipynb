{
 "cells": [
  {
   "cell_type": "code",
   "execution_count": 1,
   "metadata": {},
   "outputs": [],
   "source": [
    "import sys\n",
    "sys.path.append(\"/Users/Tanay/Desktop/CS269I/StableCoinSimulator/PyLOB/\")\n",
    "\n",
    "import math\n",
    "from random import randint\n",
    "from numpy.random import normal\n",
    "from collections import defaultdict, OrderedDict, deque\n",
    "from PyLOB import OrderBook\n",
    "import matplotlib.pyplot as plt\n",
    "import numpy as np\n",
    "import time\n",
    "import json\n",
    "# for auto-reloading extenrnal modules\n",
    "%load_ext autoreload\n",
    "%autoreload 2\n",
    "\n",
    "%matplotlib inline"
   ]
  },
  {
   "cell_type": "code",
   "execution_count": 2,
   "metadata": {},
   "outputs": [],
   "source": [
    "USE_DEMAND_MOD = False\n",
    "DAMPING = 1e-2"
   ]
  },
  {
   "cell_type": "code",
   "execution_count": 3,
   "metadata": {},
   "outputs": [],
   "source": [
    "def biased_coin(prob):\n",
    "    return int(np.random.random() < prob)"
   ]
  },
  {
   "cell_type": "code",
   "execution_count": 4,
   "metadata": {},
   "outputs": [],
   "source": [
    "def clamp_bas_price(price):\n",
    "    # 1 BAS = price ETH\n",
    "    return np.clip(price, 0, 10.0)\n",
    "\n",
    "def clamp_bas_qty(qty): \n",
    "    # Max order size of $100,000\n",
    "    return np.clip(qty, 0, 1e5)\n",
    "\n",
    "def months_to_seconds(mths):\n",
    "    return mths * 30 * 24 * 60 * 60"
   ]
  },
  {
   "cell_type": "code",
   "execution_count": 5,
   "metadata": {},
   "outputs": [],
   "source": [
    "class BasisBond: \n",
    "    def __init__(self, tid, timestamp, amount, expiry):\n",
    "        self.tid = tid\n",
    "        self.timestamp = int(timestamp)\n",
    "        self.expirytime = self.timestamp + expiry\n",
    "        self.amount = amount"
   ]
  },
  {
   "cell_type": "code",
   "execution_count": 6,
   "metadata": {},
   "outputs": [],
   "source": [
    "class Protocol:\n",
    "    def __init__(self, totalSupply):\n",
    "        self.totalSupply = totalSupply\n",
    "        self.market = None\n",
    "        \n",
    "    def update(self):\n",
    "        pass\n",
    "        \n",
    "class BasisProtocol(Protocol):\n",
    "    \n",
    "    def __init__(self, totalSupply, market):\n",
    "        super().__init__(totalSupply)\n",
    "        self.market = market\n",
    "        self.bond_expiry = months_to_seconds(60) # 5 year expiry\n",
    "        self.bondsForAuction = 0\n",
    "        self.bondQueue = deque()\n",
    "        self.bondQueueLength = 0\n",
    "        self.delay = 20000 # In Steps\n",
    "        self.lastAuction = 0 # Last aucion\n",
    "        self.currentStep = 0\n",
    "        \n",
    "    def issueBonds(self, tid, amount):\n",
    "        self.bondQueue.append(BasisBond(tid, time.time(), amount, self.bond_expiry))\n",
    "        self.bondsForAuction -= amount\n",
    "        self.bondQueueLength += amount\n",
    "        \n",
    "        if USE_DEMAND_MOD:\n",
    "            self.market.updateDemandRatio(1 + DAMPING * (amount / self.totalSupply))\n",
    "        # Basis are burnt outside of this code \n",
    "        \n",
    "    def update(self):\n",
    "        price = self.market.getCurrentUSDValue()\n",
    "        self.currentStep += 1\n",
    "        \n",
    "        LOWER = 0.99\n",
    "        UPPER = 1.01\n",
    "        \n",
    "        # Value of Supply = Market Cap\n",
    "        # Market Cap is constant, PRICE * QTY = PRICE' * QTY'\n",
    "        # QTY' = (PRICE / PRICE') * QTY\n",
    "        #        (0.9 / 1.0) * 1M \n",
    "        # delQTY = deviation (0.1) * supply (1M)\n",
    "        \n",
    "        if self.currentStep < self.lastAuction + self.delay:\n",
    "            return\n",
    "        \n",
    "        # ISSUE bonds\n",
    "        if price < LOWER:\n",
    "            \n",
    "            newSupply = price * self.market.avgVolume\n",
    "            bondsToCreate = self.market.avgVolume - newSupply \n",
    "            self.bondsForAuction += bondsToCreate\n",
    "            self.lastAuction = self.currentStep\n",
    "            \n",
    "        elif price > UPPER:\n",
    "            newSupply = price * self.market.avgVolume\n",
    "            basisToCreate = newSupply - self.market.avgVolume\n",
    "            self.lastAuction = self.currentStep\n",
    "            \n",
    "            if USE_DEMAND_MOD:\n",
    "                self.market.updateDemandRatio(1 - DAMPING * basisToCreate / self.totalSupply)\n",
    "            \n",
    "            while len(self.bondQueue) and basisToCreate:\n",
    "                head = self.bondQueue.popleft()\n",
    "                if head.amount > basisToCreate:\n",
    "                    self.market.traderPool[head.tid].bas += basisToCreate\n",
    "                    head.amount -= basisToCreate\n",
    "                    basisToCreate = 0\n",
    "                    self.bondQueue.appendleft(head)\n",
    "                    self.bondQueueLength -= basisToCreate\n",
    "                else:\n",
    "                    self.market.traderPool[head.tid].bas += head.amount\n",
    "                    basisToCreate -= head.amount\n",
    "                    self.bondQueueLength -= head.amount\n",
    "                    \n",
    "            if basisToCreate > 0:\n",
    "                # Distribute to shareholders\n",
    "                pass\n",
    "            "
   ]
  },
  {
   "cell_type": "code",
   "execution_count": 7,
   "metadata": {},
   "outputs": [],
   "source": [
    "class Trader: \n",
    "    def __init__(self, tid, protocol, market):\n",
    "        self.tid = tid\n",
    "        self.protocol = protocol\n",
    "        self.market = market\n",
    "        self.portfolioRatio = 0.5\n",
    "        self.eth = 10\n",
    "        self.bas = 1000\n",
    "        \n",
    "    def getIdealValue(self):\n",
    "        return self.eth * 100 + self.bas\n",
    "\n",
    "    def marketStep(self):\n",
    "        return None\n",
    "    \n",
    "'''\n",
    "    IdealTrader buys/sells according to market demand. \n",
    "    Sets prices to be around the ideal exchange rate ~ 0.01.\n",
    "'''\n",
    "class IdealTrader(Trader):\n",
    "    def __init__(self, tid, protocol, market):\n",
    "        super().__init__(tid, protocol, market)\n",
    "        self.bas = int(1e5) # $100,000 in BASIS \n",
    "        self.portfolioRatio = 0.05\n",
    "        \n",
    "    def marketStep(self):\n",
    "        BASE_PRICE = self.market.usd_eth # Assuming 1 ETH = $100\n",
    "        BASE_SPREAD = 1e-3 # 0.10% spread\n",
    "\n",
    "        # Randomly select bid / ask based on market demand\n",
    "        side = ['bid', 'ask'][biased_coin(self.market.demandRatio)]\n",
    "        \n",
    "        # Set price around BASE_PRICE\n",
    "        price = normal(BASE_PRICE, 8e-5)\n",
    "        if side == 'bid':\n",
    "            price -= (BASE_PRICE * BASE_SPREAD) \n",
    "        else:\n",
    "            price += (BASE_PRICE * BASE_SPREAD) \n",
    "        price = clamp_bas_price(price)\n",
    "        \n",
    "        # Set Quantity around portfolio ratio \n",
    "        qty_mu = self.portfolioRatio\n",
    "        qty_sigma = qty_mu * 0.1\n",
    "        qty = int(normal(qty_mu, qty_sigma) * self.bas)\n",
    "        qty = clamp_bas_qty(qty)\n",
    "\n",
    "        if qty <= 0:\n",
    "            return None\n",
    "        \n",
    "        order = {'type': 'limit', 'price': price, 'tid': self.tid, 'side': side, 'qty': qty}\n",
    "        return order\n",
    "    \n",
    "class RandomTrader(Trader): \n",
    "    def __init__(self, tid, protocol, market):\n",
    "        super().__init__(tid, protocol, market)\n",
    "        self.portfolioRatio = 0.05\n",
    "        self.bas = int(1e4)\n",
    "        \n",
    "    def marketStep(self):\n",
    "        # Set Quantity around portfolio ratio \n",
    "        qty_mu = self.portfolioRatio\n",
    "        qty_sigma = qty_mu * 0.1\n",
    "        qty = normal(qty_mu, qty_sigma) * self.bas\n",
    "        qty = clamp_bas_qty(qty)\n",
    "        \n",
    "        if qty <= 0:\n",
    "            return None\n",
    "        \n",
    "        # Randomly select bid / ask based on market demand\n",
    "        side = ['ask', 'bid'][biased_coin(self.market.demandRatio)]\n",
    "        \n",
    "        # If we aren't buying bonds, then try to trade\n",
    "        BASE_PRICE = self.market.getIdealETHValue() # Assuming 1 ETH = $100\n",
    "        BASE_SPREAD = 1e-3 # 0.10% spread\n",
    "        \n",
    "        # If there is high confidence, then buy bonds in the auction.\n",
    "        if side == 'ask' and biased_coin(self.market.demandRatio) and self.protocol.bondsForAuction:\n",
    "            # Buy the bonds for a price \n",
    "            price = randint(90, 99) * 0.01 # Gets the price the person is willing to pay for the bonds\n",
    "            qty = min(qty, self.protocol.bondsForAuction)\n",
    "            qty = min(qty, self.bas / price)\n",
    "            self.protocol.issueBonds(self.tid, qty)\n",
    "            burntBasis = price * qty\n",
    "            self.bas -= burntBasis\n",
    "            self.protocol.totalSupply -= burntBasis\n",
    "            return None\n",
    "        \n",
    "        # Set price around BASE_PRICE\n",
    "        price = normal(BASE_PRICE, 0.0001)\n",
    "        if side == 'bid':\n",
    "            price -= (BASE_PRICE * BASE_SPREAD) \n",
    "        else:\n",
    "            price += (BASE_PRICE * BASE_SPREAD) \n",
    "        price = clamp_bas_price(price)\n",
    "        \n",
    "        order = {'type': 'limit', 'price': price, 'tid': self.tid, 'side': side, 'qty': qty}\n",
    "        return order\n",
    "\n",
    "    \n",
    "class InvestorTrader(Trader): \n",
    "    def __init__(self, tid, protocol, market):\n",
    "        super().__init__(tid, protocol, market)\n",
    "        self.portfolioRatio = 0.001\n",
    "        self.bas = int(1e7)\n",
    "        self.eth = 1000\n",
    "    \n",
    "class TrendMaker(Trader):\n",
    "    pass\n",
    "\n",
    "class BasicTrader(Trader): \n",
    "    pass\n",
    "\n",
    "trader_dict = {'IdealTrader': IdealTrader, 'RandomTrader': RandomTrader, 'TrendMaker': TrendMaker, \n",
    "               'BasicTrader': BasicTrader, 'InvestorTrader': InvestorTrader}\n",
    "\n",
    "\n",
    "# Implement TrendMaker, BasicTrader, ShareTokens, ShareHolderTrader\n"
   ]
  },
  {
   "cell_type": "code",
   "execution_count": 8,
   "metadata": {},
   "outputs": [],
   "source": [
    "def createTraderPool(protocol, market, demographics):\n",
    "    traderPool = {}\n",
    "    uniqTID = 1\n",
    "    for trader_type, number in demographics.items():\n",
    "        trader_class = trader_dict[trader_type]\n",
    "        for i in range(number):\n",
    "            trader = trader_class(uniqTID, protocol, market)\n",
    "            traderPool[uniqTID] = trader\n",
    "            uniqTID += 1\n",
    "    return traderPool"
   ]
  },
  {
   "cell_type": "code",
   "execution_count": 9,
   "metadata": {},
   "outputs": [],
   "source": [
    "class Market:\n",
    "    def __init__(self):\n",
    "        self.demandRatio = 0.5 # in [0, 1]\n",
    "        \n",
    "        # ETH Trades\n",
    "        self.usd_eth = 0.01\n",
    "        self.bas_eth = 0.01\n",
    "        \n",
    "        self.orderbook = OrderBook(tick_size=0.0001)\n",
    "        self.traderPool = {}\n",
    "        \n",
    "        self.prices = defaultdict(list)\n",
    "        self.protocol = None\n",
    "        self.marketSpeed = 0.9\n",
    "        \n",
    "        self.askVolume = 0\n",
    "        self.bidVolume = 0\n",
    "        self.avgVolume = 0\n",
    "        self.movingAvgVel = 0.01\n",
    "        \n",
    "    def setTraderPool(self, traderPool):\n",
    "        self.traderPool = traderPool\n",
    "        \n",
    "        if self.protocol:\n",
    "            basis = 0\n",
    "            for trader in traderPool.values():\n",
    "                basis += trader.bas\n",
    "            self.protocol.totalSupply = basis\n",
    "        \n",
    "        self.orderbook.setTraderPool(traderPool)\n",
    "        \n",
    "    def getIdealETHValue(self):\n",
    "        return self.marketSpeed * self.usd_eth + (1 - self.marketSpeed) * self.getCurrentETHValue()\n",
    "        \n",
    "    def getCurrentUSDValue(self, func_type='avg_edge_bidask'):\n",
    "        return self.getCurrentETHValue(func_type) / self.usd_eth\n",
    "        \n",
    "    ''' Returns the value of BASIS in USD '''\n",
    "    def getCurrentETHValue(self, func_type='wavg_edge_bidask'):\n",
    "        def avg_bidask():\n",
    "            return (self.orderbook.getBestBid() + self.orderbook.getBestAsk()) / 2\n",
    "        \n",
    "        def wavg_bidask():\n",
    "            bid_price, ask_price = self.orderbook.getBestBid(), self.orderbook.getBestAsk()\n",
    "            bid_vol = self.orderbook.getVolumeAtPrice('bid', bid_price)\n",
    "            ask_vol = self.orderbook.getVolumeAtPrice('ask', ask_price)\n",
    "            total_vol = bid_vol + ask_vol\n",
    "            return (bid_price * ask_vol + ask_price * bid_vol) / total_vol\n",
    "        \n",
    "        if self.orderbook.getBestBid() is None:\n",
    "            if self.orderbook.getBestAsk() is not None: \n",
    "                return self.orderbook.getBestAsk() # ask, not bid\n",
    "            else:\n",
    "                return self.bas_eth # not ask, not bid\n",
    "        elif self.orderbook.getBestAsk() is None:\n",
    "            return self.orderbook.getBestBid() # not ask, bid\n",
    "        \n",
    "        func_list = {'avg_edge_bidask': avg_bidask, 'wavg_edge_bidask': wavg_bidask}\n",
    "        \n",
    "        return func_list[func_type]()\n",
    "        \n",
    "    def setProtocol(self, protocol):\n",
    "        self.protocol = protocol\n",
    "        \n",
    "    def updateDemandRatio(self, factor):\n",
    "        self.demandRatio *= factor\n",
    "        self.demandRatio = np.clip(self.demandRatio, 0.1, 1.0)\n",
    "        \n",
    "    def updateDemand(self):\n",
    "        PRICE_SCALE = 1e-5\n",
    "        VAR_SCALE = 0 #1e-3\n",
    "        \n",
    "        if self.bas_eth < self.usd_eth and self.demandRatio < 0.8:\n",
    "            delta = (self.usd_eth - self.bas_eth) / self.usd_eth\n",
    "            self.updateDemandRatio(1 + delta * PRICE_SCALE)\n",
    "        elif self.bas_eth > self.usd_eth and self.demandRatio > 0.2:   \n",
    "            delta = (self.bas_eth - self.usd_eth) / self.usd_eth\n",
    "            self.updateDemandRatio(1 - delta * PRICE_SCALE)\n",
    "        \n",
    "        var = 1e2 * ((self.usd_eth - self.bas_eth) / self.usd_eth) ** 2\n",
    "        \n",
    "        if var <= 1e-2 and self.demandRatio < 0.6: # 1 cent \n",
    "            self.updateDemandRatio(1 + VAR_SCALE)\n",
    "        else:\n",
    "            self.updateDemandRatio(1 - var * VAR_SCALE)\n",
    "        \n",
    "    def processOrder(self, quote):\n",
    "        \n",
    "        if quote['side'] == 'bid':\n",
    "            self.bidVolume += quote['qty']\n",
    "        else:\n",
    "            self.askVolume += quote['qty']\n",
    "        \n",
    "        trades, idNum = self.orderbook.processOrder(quote, False, False)\n",
    "        \n",
    "        volumeTraded = sum([trade['qty'] for trade in trades])\n",
    "        self.bidVolume -= volumeTraded\n",
    "        self.askVolume -= volumeTraded\n",
    "        \n",
    "        totalVolume = self.bidVolume + self.askVolume\n",
    "        self.avgVolume = totalVolume * self.movingAvgVel + self.avgVolume * (1 - self.movingAvgVel)\n",
    "        \n",
    "        for func in ['avg_edge_bidask', 'wavg_edge_bidask']:\n",
    "            self.prices[func].append(self.getCurrentUSDValue(func))\n",
    "            \n",
    "        self.updateDemand()\n",
    "            \n",
    "        if self.protocol is not None:\n",
    "            self.protocol.update()\n",
    "            \n",
    "            \n",
    "        return trades, idNum"
   ]
  },
  {
   "cell_type": "code",
   "execution_count": 10,
   "metadata": {},
   "outputs": [],
   "source": [
    "eth_prices = json.load(open('etherium.json'))\n",
    "\n",
    "def get_eth_price(t):\n",
    "    T = 15000\n",
    "    idx = t // T\n",
    "    lin = (t % T) / (1. * T)\n",
    "    if idx >= len(eth_prices) - 1:\n",
    "        return eth_prices[-1]\n",
    "    return eth_prices[idx] * (1.0 - lin) + eth_prices[idx + 1] * lin"
   ]
  },
  {
   "cell_type": "code",
   "execution_count": 11,
   "metadata": {},
   "outputs": [],
   "source": [
    "trader_demographics = OrderedDict()\n",
    "trader_demographics['IdealTrader'] = 5\n",
    "trader_demographics['RandomTrader'] = 1000\n",
    "trader_demographics['InvestorTrader'] = 5"
   ]
  },
  {
   "cell_type": "code",
   "execution_count": 12,
   "metadata": {},
   "outputs": [],
   "source": [
    "market = Market()\n",
    "basis = BasisProtocol(int(1e7), market)\n",
    "market.protocol = basis\n",
    "traderPool = createTraderPool(basis, market, trader_demographics)\n",
    "market.setTraderPool(traderPool)\n",
    "\n",
    "cur_time = 0\n",
    "market.usd_eth = 1 / get_eth_price(0)\n",
    "market.bas_eth = 1 / get_eth_price(0)\n",
    "usd_eth_price_track = []\n",
    "bond_queue_length_track = []\n",
    "demand_ratio_track = []"
   ]
  },
  {
   "cell_type": "code",
   "execution_count": 13,
   "metadata": {},
   "outputs": [],
   "source": [
    "initialOrders = []\n",
    "NUM_ORDERS = 2000\n",
    "NUM_TRADERS = trader_demographics['IdealTrader'] # We initially set it up with randomTraders\n",
    "\n",
    "for i in range(NUM_ORDERS):\n",
    "    market.usd_eth = 1 / get_eth_price(cur_time) \n",
    "    \n",
    "    if i % 50 == 0:\n",
    "        usd_eth_price_track.append(market.usd_eth)\n",
    "        bond_queue_length_track.append(basis.bondQueueLength)\n",
    "        demand_ratio_track.append(market.demandRatio)\n",
    "    tid = randint(1, NUM_TRADERS)\n",
    "    order = traderPool[tid].marketStep()\n",
    "    if order:\n",
    "        initialOrders.append(order)\n",
    "    cur_time += 1\n",
    "    \n",
    "for i, order in enumerate(initialOrders):\n",
    "    trades, idNum = market.processOrder(order)"
   ]
  },
  {
   "cell_type": "code",
   "execution_count": 14,
   "metadata": {},
   "outputs": [],
   "source": [
    "def bin_data(data, bin_size):\n",
    "    valid_length = (data.shape[0] // bin_size) * bin_size\n",
    "    data = data[:valid_length]\n",
    "    N = data.shape[0]\n",
    "    binned = np.zeros(N // bin_size)\n",
    "    for k in range(0, N, bin_size):\n",
    "        binned[k // bin_size] = data[k : k + bin_size].mean()\n",
    "    return binned\n",
    "\n",
    "def plot_prices(market, price_func, bin_size=50, warmup=100): \n",
    "    data = np.array(market.prices[price_func])[warmup:]\n",
    "    binned = bin_data(data, bin_size)\n",
    "    \n",
    "    binned = binned\n",
    "    ideal = np.ones(binned.shape)\n",
    "    plt.plot(ideal, 'r')\n",
    "    plt.plot(binned, 'b')\n",
    "    plt.ylim(0.5, 1.5)"
   ]
  },
  {
   "cell_type": "code",
   "execution_count": 15,
   "metadata": {},
   "outputs": [
    {
     "data": {
      "image/png": "[encoded data removed]",
      "text/plain": [
       "<matplotlib.figure.Figure at 0x10b2dc9b0>"
      ]
     },
     "metadata": {},
     "output_type": "display_data"
    }
   ],
   "source": [
    "plot_prices(market, 'wavg_edge_bidask')"
   ]
  },
  {
   "cell_type": "code",
   "execution_count": 16,
   "metadata": {},
   "outputs": [
    {
     "data": {
      "image/png": "[encoded data removed]",
      "text/plain": [
       "<matplotlib.figure.Figure at 0x10b3b6400>"
      ]
     },
     "metadata": {},
     "output_type": "display_data"
    }
   ],
   "source": [
    "NUM_ORDERS_LIVE = 150000\n",
    "# We initially set it up with randomTraders\n",
    "NUM_TRADERS = trader_demographics['RandomTrader'] #+ trader_demographics['InvestorTrader']\n",
    "\n",
    "offset = trader_demographics['IdealTrader']\n",
    "for i in range(NUM_ORDERS_LIVE):\n",
    "    market.usd_eth = 1 / get_eth_price(cur_time) \n",
    "    \n",
    "    if i % 50 == 0:\n",
    "        usd_eth_price_track.append(market.usd_eth)\n",
    "        bond_queue_length_track.append(basis.bondQueueLength)\n",
    "        demand_ratio_track.append(market.demandRatio)\n",
    "        \n",
    "    tid = randint(offset + 1, offset + NUM_TRADERS)\n",
    "    order = traderPool[tid].marketStep()\n",
    "    if order: \n",
    "        trades, idNum = market.processOrder(order)    \n",
    "    cur_time += 1\n",
    "plot_prices(market, 'wavg_edge_bidask')"
   ]
  },
  {
   "cell_type": "code",
   "execution_count": 17,
   "metadata": {},
   "outputs": [
    {
     "data": {
      "text/plain": [
       "[<matplotlib.lines.Line2D at 0x111564cf8>]"
      ]
     },
     "execution_count": 17,
     "metadata": {},
     "output_type": "execute_result"
    },
    {
     "data": {
      "image/png": "[encoded data removed]",
      "text/plain": [
       "<matplotlib.figure.Figure at 0x10b38e978>"
      ]
     },
     "metadata": {},
     "output_type": "display_data"
    }
   ],
   "source": [
    "plt.plot(bond_queue_length_track)"
   ]
  },
  {
   "cell_type": "code",
   "execution_count": 18,
   "metadata": {},
   "outputs": [
    {
     "data": {
      "text/plain": [
       "[<matplotlib.lines.Line2D at 0x1115e1d30>]"
      ]
     },
     "execution_count": 18,
     "metadata": {},
     "output_type": "execute_result"
    },
    {
     "data": {
      "image/png": "[encoded data removed]",
      "text/plain": [
       "<matplotlib.figure.Figure at 0x110820cf8>"
      ]
     },
     "metadata": {},
     "output_type": "display_data"
    }
   ],
   "source": [
    "plt.plot(demand_ratio_track)"
   ]
  },
  {
   "cell_type": "code",
   "execution_count": 19,
   "metadata": {},
   "outputs": [
    {
     "data": {
      "text/plain": [
       "[<matplotlib.lines.Line2D at 0x1116a5940>]"
      ]
     },
     "execution_count": 19,
     "metadata": {},
     "output_type": "execute_result"
    },
    {
     "data": {
      "image/png": "[encoded data removed]",
      "text/plain": [
       "<matplotlib.figure.Figure at 0x1115c2e10>"
      ]
     },
     "metadata": {},
     "output_type": "display_data"
    }
   ],
   "source": [
    "plt.plot(usd_eth_price_track)"
   ]
  },
  {
   "cell_type": "code",
   "execution_count": 20,
   "metadata": {},
   "outputs": [
    {
     "data": {
      "text/plain": [
       "(array([ 1005.,     0.,     0.,     0.,     0.,     0.,     0.,     0.,\n",
       "            0.,     5.]),\n",
       " array([   -18797.74 ,    993082.034,   2004961.808,   3016841.582,\n",
       "          4028721.356,   5040601.13 ,   6052480.904,   7064360.678,\n",
       "          8076240.452,   9088120.226,  10100000.   ]),\n",
       " <a list of 10 Patch objects>)"
      ]
     },
     "execution_count": 20,
     "metadata": {},
     "output_type": "execute_result"
    },
    {
     "data": {
      "image/png": "[encoded data removed]",
      "text/plain": [
       "<matplotlib.figure.Figure at 0x111739048>"
      ]
     },
     "metadata": {},
     "output_type": "display_data"
    }
   ],
   "source": [
    "final_values = [trader.getIdealValue() for trader in traderPool.values()]\n",
    "plt.hist(final_values, bins=10)"
   ]
  }
 ],
 "metadata": {
  "kernelspec": {
   "display_name": "Python 3",
   "language": "python",
   "name": "python3"
  },
  "language_info": {
   "codemirror_mode": {
    "name": "ipython",
    "version": 3
   },
   "file_extension": ".py",
   "mimetype": "text/x-python",
   "name": "python",
   "nbconvert_exporter": "python",
   "pygments_lexer": "ipython3",
   "version": "3.6.2"
  }
 },
 "nbformat": 4,
 "nbformat_minor": 2
}
