{
 "cells": [
  {
   "cell_type": "code",
   "execution_count": 53,
   "metadata": {},
   "outputs": [
    {
     "name": "stdout",
     "output_type": "stream",
     "text": [
      "The autoreload extension is already loaded. To reload it, use:\n",
      "  %reload_ext autoreload\n"
     ]
    }
   ],
   "source": [
    "import sys\n",
    "sys.path.append(\"/Users/Tanay/Desktop/CS269I/agentmodel/PyLOB/\")\n",
    "\n",
    "import math\n",
    "from random import randint\n",
    "from numpy.random import normal\n",
    "from collections import defaultdict, OrderedDict\n",
    "from PyLOB import OrderBook\n",
    "import matplotlib.pyplot as plt\n",
    "import numpy as np\n",
    "\n",
    "# for auto-reloading extenrnal modules\n",
    "%load_ext autoreload\n",
    "%autoreload 2\n",
    "\n",
    "%matplotlib inline"
   ]
  },
  {
   "cell_type": "code",
   "execution_count": 54,
   "metadata": {},
   "outputs": [],
   "source": [
    "def biased_coin(prob):\n",
    "    return int(np.random.random() < prob)"
   ]
  },
  {
   "cell_type": "code",
   "execution_count": 55,
   "metadata": {},
   "outputs": [],
   "source": [
    "def clamp_bas_price(price):\n",
    "    # 1 BAS = price ETH\n",
    "    return np.clip(price, 0, 10.0)\n",
    "\n",
    "def clamp_bas_qty(qty): \n",
    "    # Max order size of $100,000\n",
    "    return int(np.clip(qty, 0, 1e5))"
   ]
  },
  {
   "cell_type": "code",
   "execution_count": 56,
   "metadata": {},
   "outputs": [],
   "source": [
    "class Protocol:\n",
    "    def __init__(self, totalSupply):\n",
    "        self.totalSupply = totalSupply\n",
    "        \n",
    "class BasisProtocol(Protocol):\n",
    "    pass"
   ]
  },
  {
   "cell_type": "code",
   "execution_count": 88,
   "metadata": {},
   "outputs": [],
   "source": [
    "class Trader: \n",
    "    def __init__(self, tid, protocol, market):\n",
    "        self.tid = tid\n",
    "        self.protocol = protocol\n",
    "        self.market = market\n",
    "        self.portfolioRatio = 0.5\n",
    "        self.eth = 10\n",
    "        self.bas = 1000\n",
    "        \n",
    "    def getIdealValue(self):\n",
    "        return self.eth * 100 + self.bas\n",
    "\n",
    "    def marketStep(self):\n",
    "        return None\n",
    "    \n",
    "'''\n",
    "    IdealTrader buys/sells according to market demand. \n",
    "    Sets prices to be around the ideal exchange rate ~ 0.01.\n",
    "'''\n",
    "class IdealTrader(Trader):\n",
    "    def __init__(self, tid, protocol, market):\n",
    "        super().__init__(tid, protocol, market)\n",
    "        self.bas = 100000 # $100,000 in BASIS \n",
    "        self.portfolioRatio = 0.01\n",
    "        \n",
    "    def marketStep(self):\n",
    "        BASE_PRICE = self.market.usd_eth # Assuming 1 ETH = $100\n",
    "        BASE_SPREAD = 1e-3 # 0.10% spread\n",
    "\n",
    "        # Randomly select bid / ask based on market demand\n",
    "        side = ['bid', 'ask'][biased_coin(self.market.demandRatio)]\n",
    "        \n",
    "        # Set price around BASE_PRICE\n",
    "        price = normal(BASE_PRICE, 0.0002)\n",
    "        if side == 'bid':\n",
    "            price -= (BASE_PRICE * BASE_SPREAD) \n",
    "        else:\n",
    "            price += (BASE_PRICE * BASE_SPREAD) \n",
    "        price = clamp_bas_price(price)\n",
    "        \n",
    "        # Set Quantity around portfolio ratio \n",
    "        qty_mu = self.portfolioRatio\n",
    "        qty_sigma = qty_mu * 0.1\n",
    "        qty = int(normal(qty_mu, qty_sigma) * self.bas)\n",
    "        qty = clamp_bas_qty(qty)\n",
    "\n",
    "        if qty <= 0:\n",
    "            return None\n",
    "        \n",
    "        order = {'type': 'limit', 'price': price, 'tid': self.tid, 'side': side, 'qty': qty}\n",
    "        return order\n",
    "    \n",
    "class RandomTrader(Trader): \n",
    "    def __init__(self, key, protocol, market):\n",
    "        super().__init__(key, protocol, market)\n",
    "        self.portfolioRatio = 0.05\n",
    "        self.bas = 10000\n",
    "        \n",
    "    def marketStep(self):\n",
    "        BASE_PRICE = self.market.getCurrentValue() # Assuming 1 ETH = $100\n",
    "        BASE_SPREAD = 1e-3 # 0.10% spread\n",
    "\n",
    "        # Randomly select bid / ask based on market demand\n",
    "        side = ['bid', 'ask'][biased_coin(self.market.demandRatio)]\n",
    "        \n",
    "        # Set price around BASE_PRICE\n",
    "        price = normal(BASE_PRICE, 0.0001)\n",
    "        if side == 'bid':\n",
    "            price -= (BASE_PRICE * BASE_SPREAD) \n",
    "        else:\n",
    "            price += (BASE_PRICE * BASE_SPREAD) \n",
    "        price = clamp_bas_price(price)\n",
    "\n",
    "        # Set Quantity around portfolio ratio \n",
    "        qty_mu = self.portfolioRatio\n",
    "        qty_sigma = qty_mu * 0.1\n",
    "        qty = int(normal(qty_mu, qty_sigma) * self.bas)\n",
    "        qty = clamp_bas_qty(qty)\n",
    "\n",
    "        if qty <= 0:\n",
    "            return None\n",
    "        \n",
    "        order = {'type': 'limit', 'price': price, 'tid': self.tid, 'side': side, 'qty': qty}\n",
    "        return order\n",
    "\n",
    "class TrendMaker(Trader):\n",
    "    pass\n",
    "\n",
    "class BuyFDeeps(Trader):\n",
    "    pass\n",
    "\n",
    "class BasicTrader(Trader): \n",
    "    pass\n",
    "\n",
    "class OracleSpeculator(Trader): \n",
    "    pass\n",
    "\n",
    "class ArbitrageUpTrader(Trader):\n",
    "    pass\n",
    "\n",
    "class ArbitrageDownTrader(Trader):\n",
    "    pass\n",
    "\n",
    "trader_dict = {'IdealTrader': IdealTrader, 'RandomTrader': RandomTrader, 'TrendMaker': TrendMaker, \n",
    "               'BuyFDeeps': BuyFDeeps,'BasicTrader': BasicTrader, 'OracleSpeculator': OracleSpeculator, \n",
    "               'ArbitrageUpTrader': ArbitrageUpTrader, 'ArbitrageDownTrader': ArbitrageDownTrader}\n"
   ]
  },
  {
   "cell_type": "code",
   "execution_count": 89,
   "metadata": {},
   "outputs": [],
   "source": [
    "def createTraderPool(protocol, market, demographics):\n",
    "    traderPool = {}\n",
    "    uniqTID = 1\n",
    "    for trader_type, number in demographics.items():\n",
    "        trader_class = trader_dict[trader_type]\n",
    "        for i in range(number):\n",
    "            trader = trader_class(uniqTID, protocol, market)\n",
    "            traderPool[uniqTID] = trader\n",
    "            uniqTID += 1\n",
    "    return traderPool"
   ]
  },
  {
   "cell_type": "code",
   "execution_count": 90,
   "metadata": {},
   "outputs": [],
   "source": [
    "class Market:\n",
    "    def __init__(self):\n",
    "        self.demandRatio = 0.5 # in [0, 1]\n",
    "        \n",
    "        # ETH Trades\n",
    "        self.usd_eth = 0.01\n",
    "        self.bas_eth = 0.01\n",
    "        \n",
    "        self.orderbook = OrderBook(tick_size=0.0001)\n",
    "        self.traderPool = {}\n",
    "        \n",
    "        self.prices = defaultdict(list)\n",
    "        \n",
    "    def setTraderPool(self, traderPool):\n",
    "        self.traderPool = traderPool\n",
    "        self.orderbook.setTraderPool(traderPool)\n",
    "        \n",
    "    def getCurrentValue(self, func_type='avg_edge_bidask'):\n",
    "        def avg_bidask():\n",
    "            return (self.orderbook.getBestBid() + self.orderbook.getBestAsk()) / 2\n",
    "        \n",
    "        def wavg_bidask():\n",
    "            bid_price, ask_price = self.orderbook.getBestBid(), self.orderbook.getBestAsk()\n",
    "            bid_vol = self.orderbook.getVolumeAtPrice('bid', bid_price)\n",
    "            ask_vol = self.orderbook.getVolumeAtPrice('ask', ask_price)\n",
    "            total_vol = bid_vol + ask_vol\n",
    "            return (bid_price * bid_vol + ask_price * ask_vol) / total_vol\n",
    "        \n",
    "        if self.orderbook.getBestBid() is None or self.orderbook.getBestAsk() is None:\n",
    "            if self.orderbook.getBestBid() is not None:\n",
    "                return self.orderbook.getBestBid()\n",
    "            elif self.orderbook.getBestAsk() is not None: \n",
    "                return self.orderbook.getBestBid()\n",
    "            else:\n",
    "                return self.bas_eth\n",
    "        \n",
    "        func_list = {'avg_edge_bidask': avg_bidask, 'wavg_edge_bidask': wavg_bidask}\n",
    "        \n",
    "        return func_list[func_type]()\n",
    "        \n",
    "    def processOrder(self, quote):\n",
    "        trades, idNum = self.orderbook.processOrder(quote, False, False)\n",
    "        for func in ['avg_edge_bidask', 'wavg_edge_bidask']:\n",
    "            self.prices[func].append(self.getCurrentValue(func))\n",
    "            \n",
    "        return trades, idNum"
   ]
  },
  {
   "cell_type": "code",
   "execution_count": 91,
   "metadata": {},
   "outputs": [],
   "source": [
    "trader_demographics = OrderedDict()\n",
    "trader_demographics['IdealTrader'] = 5\n",
    "trader_demographics['RandomTrader'] = 100"
   ]
  },
  {
   "cell_type": "code",
   "execution_count": 92,
   "metadata": {},
   "outputs": [],
   "source": [
    "basis = BasisProtocol(int(1e6))\n",
    "market = Market()\n",
    "traderPool = createTraderPool(basis, market, trader_demographics)\n",
    "market.setTraderPool(traderPool)"
   ]
  },
  {
   "cell_type": "code",
   "execution_count": 93,
   "metadata": {},
   "outputs": [],
   "source": [
    "initialOrders = []\n",
    "NUM_ORDERS = 2000\n",
    "NUM_TRADERS = trader_demographics['IdealTrader'] # We initially set it up with randomTraders\n",
    "\n",
    "for _ in range(NUM_ORDERS):\n",
    "    tid = randint(1, NUM_TRADERS)\n",
    "    order = traderPool[tid].marketStep()\n",
    "    if order:\n",
    "        initialOrders.append(order)\n",
    "    \n",
    "for i, order in enumerate(initialOrders):\n",
    "    trades, idNum = market.processOrder(order)"
   ]
  },
  {
   "cell_type": "code",
   "execution_count": 94,
   "metadata": {},
   "outputs": [],
   "source": [
    "def bin_data(data, bin_size):\n",
    "    valid_length = (data.shape[0] // bin_size) * bin_size\n",
    "    data = data[:valid_length]\n",
    "    N = data.shape[0]\n",
    "    binned = np.zeros(N // bin_size)\n",
    "    for k in range(0, N, bin_size):\n",
    "        binned[k // bin_size] = data[k : k + bin_size].mean()\n",
    "    return binned\n",
    "\n",
    "def plot_prices(market, price_func, bin_size=50, warmup=100): \n",
    "    data = np.array(market.prices[price_func])[warmup:]\n",
    "    binned = bin_data(data, bin_size)\n",
    "    \n",
    "    # Currently in BAS/ETH. Need to convert to BAS/USD\n",
    "    binned = binned / market.usd_eth\n",
    "    ideal = np.ones(binned.shape)\n",
    "    plt.plot(ideal, 'r')\n",
    "    plt.plot(binned, 'b')\n",
    "    plt.ylim(0.9, 1.1)"
   ]
  },
  {
   "cell_type": "code",
   "execution_count": 95,
   "metadata": {},
   "outputs": [
    {
     "data": {
      "image/png": "[encoded data removed]",
      "text/plain": [
       "<matplotlib.figure.Figure at 0x105974630>"
      ]
     },
     "metadata": {},
     "output_type": "display_data"
    }
   ],
   "source": [
    "plot_prices(market, 'wavg_edge_bidask')"
   ]
  },
  {
   "cell_type": "code",
   "execution_count": 101,
   "metadata": {},
   "outputs": [
    {
     "data": {
      "image/png": "[encoded data removed]",
      "text/plain": [
       "<matplotlib.figure.Figure at 0x105219080>"
      ]
     },
     "metadata": {},
     "output_type": "display_data"
    }
   ],
   "source": [
    "NUM_ORDERS_LIVE = 10000\n",
    "NUM_TRADERS = trader_demographics['RandomTrader'] # We initially set it up with randomTraders\n",
    "\n",
    "offset = trader_demographics['IdealTrader']\n",
    "for _ in range(NUM_ORDERS):\n",
    "    tid = randint(offset + 1, offset + NUM_TRADERS)\n",
    "    order = traderPool[tid].marketStep()\n",
    "    if order: \n",
    "        trades, idNum = market.processOrder(order)    \n",
    "        \n",
    "plot_prices(market, 'wavg_edge_bidask')"
   ]
  },
  {
   "cell_type": "code",
   "execution_count": 97,
   "metadata": {},
   "outputs": [
    {
     "data": {
      "text/plain": [
       "(array([ 100.,    0.,    0.,    0.,    0.,    0.,    0.,    0.,    0.,    5.]),\n",
       " array([  10936.58 ,   19925.312,   28914.044,   37902.776,   46891.508,\n",
       "          55880.24 ,   64868.972,   73857.704,   82846.436,   91835.168,\n",
       "         100823.9  ]),\n",
       " <a list of 10 Patch objects>)"
      ]
     },
     "execution_count": 97,
     "metadata": {},
     "output_type": "execute_result"
    },
    {
     "data": {
      "image/png": "[encoded data removed]",
      "text/plain": [
       "<matplotlib.figure.Figure at 0x105c6cb70>"
      ]
     },
     "metadata": {},
     "output_type": "display_data"
    }
   ],
   "source": [
    "final_values = [trader.getIdealValue() for trader in traderPool.values()]\n",
    "plt.hist(final_values, bins=10)"
   ]
  },
  {
   "cell_type": "code",
   "execution_count": null,
   "metadata": {},
   "outputs": [],
   "source": []
  }
 ],
 "metadata": {
  "kernelspec": {
   "display_name": "Python 3",
   "language": "python",
   "name": "python3"
  },
  "language_info": {
   "codemirror_mode": {
    "name": "ipython",
    "version": 3
   },
   "file_extension": ".py",
   "mimetype": "text/x-python",
   "name": "python",
   "nbconvert_exporter": "python",
   "pygments_lexer": "ipython3",
   "version": "3.6.2"
  }
 },
 "nbformat": 4,
 "nbformat_minor": 2
}
